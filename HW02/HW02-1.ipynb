{
  "nbformat": 4,
  "nbformat_minor": 0,
  "metadata": {
    "accelerator": "GPU",
    "colab": {
      "name": "SHARE MLSpring2021 - HW2-1.ipynb",
      "provenance": [],
      "include_colab_link": true
    },
    "kernelspec": {
      "display_name": "Python 3",
      "name": "python3"
    }
  },
  "cells": [
    {
      "cell_type": "markdown",
      "metadata": {
        "id": "view-in-github",
        "colab_type": "text"
      },
      "source": [
        "<a href=\"https://colab.research.google.com/github/andy5209/ML2021hw/blob/main/HW02/HW02-1.ipynb\" target=\"_parent\"><img src=\"https://colab.research.google.com/assets/colab-badge.svg\" alt=\"Open In Colab\"/></a>"
      ]
    },
    {
      "cell_type": "markdown",
      "metadata": {
        "id": "OYlaRwNu7ojq"
      },
      "source": [
        "# **Homework 2-1 Phoneme Classification**\n",
        "\n",
        "* Slides: https://speech.ee.ntu.edu.tw/~hylee/ml/ml2021-course-data/hw/HW02/HW02.pdf\n",
        "* Video (Chinese): https://youtu.be/PdjXnQbu2zo\n",
        "* Video (English): https://youtu.be/ESRr-VCykBs\n"
      ]
    },
    {
      "cell_type": "markdown",
      "metadata": {
        "id": "emUd7uS7crTz"
      },
      "source": [
        "## The DARPA TIMIT Acoustic-Phonetic Continuous Speech Corpus (TIMIT)\n",
        "The TIMIT corpus of reading speech has been designed to provide speech data for the acquisition of acoustic-phonetic knowledge and for the development and evaluation of automatic speech recognition systems.\n",
        "\n",
        "This homework is a multiclass classification task,\n",
        "we are going to train a deep neural network classifier to predict the phonemes for each frame from the speech corpus TIMIT.\n",
        "\n",
        "link: https://academictorrents.com/details/34e2b78745138186976cbc27939b1b34d18bd5b3"
      ]
    },
    {
      "cell_type": "markdown",
      "metadata": {
        "id": "KVUGfWTo7_Oj"
      },
      "source": [
        "## Download Data\n",
        "Download data from google drive, then unzip it.\n",
        "\n",
        "You should have `timit_11/train_11.npy`, `timit_11/train_label_11.npy`, and `timit_11/test_11.npy` after running this block.<br><br>\n",
        "`timit_11/`\n",
        "- `train_11.npy`: training data<br>\n",
        "- `train_label_11.npy`: training label<br>\n",
        "- `test_11.npy`:  testing data<br><br>\n",
        "\n",
        "**notes: if the google drive link is dead, you can download the data directly from Kaggle and upload it to the workspace**\n",
        "\n",
        "\n"
      ]
    },
    {
      "cell_type": "code",
      "metadata": {
        "colab": {
          "base_uri": "https://localhost:8080/"
        },
        "id": "OzkiMEcC3Foq",
        "outputId": "a81ce5ff-0638-4444-a4a7-f44c8fd21758"
      },
      "source": [
        "!gdown --id '1HPkcmQmFGu-3OknddKIa5dNDsR05lIQR' --output data.zip\n",
        "!unzip data.zip\n",
        "!ls"
      ],
      "execution_count": 1,
      "outputs": [
        {
          "output_type": "stream",
          "name": "stdout",
          "text": [
            "/usr/local/lib/python3.11/dist-packages/gdown/__main__.py:140: FutureWarning: Option `--id` was deprecated in version 4.3.1 and will be removed in 5.0. You don't need to pass it anymore to use a file ID.\n",
            "  warnings.warn(\n",
            "Downloading...\n",
            "From (original): https://drive.google.com/uc?id=1HPkcmQmFGu-3OknddKIa5dNDsR05lIQR\n",
            "From (redirected): https://drive.google.com/uc?id=1HPkcmQmFGu-3OknddKIa5dNDsR05lIQR&confirm=t&uuid=139b9e8f-9bbd-4818-8cb4-f93e91e991ea\n",
            "To: /content/data.zip\n",
            "100% 372M/372M [00:05<00:00, 70.8MB/s]\n",
            "Archive:  data.zip\n",
            "   creating: timit_11/\n",
            "  inflating: timit_11/train_11.npy   \n",
            "  inflating: timit_11/test_11.npy    \n",
            "  inflating: timit_11/train_label_11.npy  \n",
            "data.zip  sample_data  timit_11\n"
          ]
        }
      ]
    },
    {
      "cell_type": "markdown",
      "metadata": {
        "id": "_L_4anls8Drv"
      },
      "source": [
        "## Preparing Data\n",
        "Load the training and testing data from the `.npy` file (NumPy array)."
      ]
    },
    {
      "cell_type": "code",
      "metadata": {
        "colab": {
          "base_uri": "https://localhost:8080/"
        },
        "id": "IJjLT8em-y9G",
        "outputId": "17367b51-253a-421b-a956-1cda6b7290ec"
      },
      "source": [
        "import numpy as np\n",
        "\n",
        "print('Loading data ...')\n",
        "\n",
        "data_root='./timit_11/'\n",
        "train = np.load(data_root + 'train_11.npy')\n",
        "train_label = np.load(data_root + 'train_label_11.npy')\n",
        "test = np.load(data_root + 'test_11.npy')\n",
        "\n",
        "print('Size of training data: {}'.format(train.shape))\n",
        "print('Size of testing data: {}'.format(test.shape))"
      ],
      "execution_count": 2,
      "outputs": [
        {
          "output_type": "stream",
          "name": "stdout",
          "text": [
            "Loading data ...\n",
            "Size of training data: (1229932, 429)\n",
            "Size of testing data: (451552, 429)\n"
          ]
        }
      ]
    },
    {
      "cell_type": "markdown",
      "metadata": {
        "id": "us5XW_x6udZQ"
      },
      "source": [
        "## Create Dataset"
      ]
    },
    {
      "cell_type": "code",
      "metadata": {
        "id": "Fjf5EcmJtf4e"
      },
      "source": [
        "import torch\n",
        "from torch.utils.data import Dataset\n",
        "\n",
        "class TIMITDataset(Dataset):\n",
        "    def __init__(self, X, y=None):\n",
        "        self.data = torch.from_numpy(X).float()\n",
        "        if y is not None:\n",
        "            y = y.astype(int)\n",
        "            self.label = torch.LongTensor(y)\n",
        "        else:\n",
        "            self.label = None\n",
        "\n",
        "    def __getitem__(self, idx):\n",
        "        if self.label is not None:\n",
        "            return self.data[idx], self.label[idx]\n",
        "        else:\n",
        "            return self.data[idx]\n",
        "\n",
        "    def __len__(self):\n",
        "        return len(self.data)\n"
      ],
      "execution_count": 3,
      "outputs": []
    },
    {
      "cell_type": "markdown",
      "metadata": {
        "id": "otIC6WhGeh9v"
      },
      "source": [
        "Split the labeled data into a training set and a validation set, you can modify the variable `VAL_RATIO` to change the ratio of validation data."
      ]
    },
    {
      "cell_type": "code",
      "metadata": {
        "colab": {
          "base_uri": "https://localhost:8080/"
        },
        "id": "sYqi_lAuvC59",
        "outputId": "420ddb14-57ae-40a5-ace9-7b5b60dfe317"
      },
      "source": [
        "VAL_RATIO = 0.2\n",
        "\n",
        "percent = int(train.shape[0] * (1 - VAL_RATIO))\n",
        "train_x, train_y, val_x, val_y = train[:percent], train_label[:percent], train[percent:], train_label[percent:]\n",
        "print('Size of training set: {}'.format(train_x.shape))\n",
        "print('Size of validation set: {}'.format(val_x.shape))"
      ],
      "execution_count": 4,
      "outputs": [
        {
          "output_type": "stream",
          "name": "stdout",
          "text": [
            "Size of training set: (983945, 429)\n",
            "Size of validation set: (245987, 429)\n"
          ]
        }
      ]
    },
    {
      "cell_type": "markdown",
      "metadata": {
        "id": "nbCfclUIgMTX"
      },
      "source": [
        "Create a data loader from the dataset, feel free to tweak the variable `BATCH_SIZE` here."
      ]
    },
    {
      "cell_type": "code",
      "metadata": {
        "id": "RUCbQvqJurYc"
      },
      "source": [
        "BATCH_SIZE = 64\n",
        "\n",
        "from torch.utils.data import DataLoader\n",
        "\n",
        "train_set = TIMITDataset(train_x, train_y)\n",
        "val_set = TIMITDataset(val_x, val_y)\n",
        "train_loader = DataLoader(train_set, batch_size=BATCH_SIZE, shuffle=True) #only shuffle the training data\n",
        "val_loader = DataLoader(val_set, batch_size=BATCH_SIZE, shuffle=False)"
      ],
      "execution_count": 5,
      "outputs": []
    },
    {
      "cell_type": "markdown",
      "metadata": {
        "id": "_SY7X0lUgb50"
      },
      "source": [
        "Cleanup the unneeded variables to save memory.<br>\n",
        "\n",
        "**notes: if you need to use these variables later, then you may remove this block or clean up unneeded variables later<br>the data size is quite huge, so be aware of memory usage in colab**"
      ]
    },
    {
      "cell_type": "code",
      "metadata": {
        "colab": {
          "base_uri": "https://localhost:8080/"
        },
        "id": "y8rzkGraeYeN",
        "outputId": "7134e3e9-2205-40a0-def6-5fd31d1514e2"
      },
      "source": [
        "import gc\n",
        "\n",
        "del train, train_label, train_x, train_y, val_x, val_y\n",
        "gc.collect()"
      ],
      "execution_count": 6,
      "outputs": [
        {
          "output_type": "execute_result",
          "data": {
            "text/plain": [
              "66"
            ]
          },
          "metadata": {},
          "execution_count": 6
        }
      ]
    },
    {
      "cell_type": "markdown",
      "metadata": {
        "id": "IRqKNvNZwe3V"
      },
      "source": [
        "## Create Model"
      ]
    },
    {
      "cell_type": "markdown",
      "metadata": {
        "id": "FYr1ng5fh9pA"
      },
      "source": [
        "Define model architecture, you are encouraged to change and experiment with the model architecture."
      ]
    },
    {
      "cell_type": "code",
      "metadata": {
        "id": "lbZrwT6Ny0XL"
      },
      "source": [
        "import torch\n",
        "import torch.nn as nn\n",
        "\n",
        "class Classifier_ReLU(nn.Module):\n",
        "    def __init__(self):\n",
        "        super(Classifier_ReLU, self).__init__()\n",
        "        self.layer1 = nn.Linear(429, 1024)\n",
        "        self.layer2 = nn.Linear(1024, 512)\n",
        "        self.layer3 = nn.Linear(512, 128)\n",
        "        self.out = nn.Linear(128, 39)\n",
        "\n",
        "        self.act_fn = nn.ReLU()\n",
        "\n",
        "    def forward(self, x):\n",
        "        x = self.layer1(x)\n",
        "        x = self.act_fn(x)\n",
        "\n",
        "        x = self.layer2(x)\n",
        "        x = self.act_fn(x)\n",
        "\n",
        "        x = self.layer3(x)\n",
        "        x = self.act_fn(x)\n",
        "\n",
        "        x = self.out(x)\n",
        "\n",
        "        return x"
      ],
      "execution_count": 7,
      "outputs": []
    },
    {
      "cell_type": "code",
      "source": [
        "class Classifier_Sigmoi(nn.Module):\n",
        "    def __init__(self):\n",
        "        super(Classifier_Sigmoi, self).__init__()\n",
        "        self.layer1 = nn.Linear(429, 1024)\n",
        "        self.layer2 = nn.Linear(1024, 512)\n",
        "        self.layer3 = nn.Linear(512, 128)\n",
        "        self.out = nn.Linear(128, 39)\n",
        "\n",
        "        self.act_fn = nn.ReLU()\n",
        "\n",
        "    def forward(self, x):\n",
        "        x = self.layer1(x)\n",
        "        x = self.act_fn(x)\n",
        "\n",
        "        x = self.layer2(x)\n",
        "        x = self.act_fn(x)\n",
        "\n",
        "        x = self.layer3(x)\n",
        "        x = self.act_fn(x)\n",
        "\n",
        "        x = self.out(x)\n",
        "\n",
        "        return x"
      ],
      "metadata": {
        "id": "h9DDdConYEAo"
      },
      "execution_count": 8,
      "outputs": []
    },
    {
      "cell_type": "code",
      "source": [
        "class Classifier(nn.Module):\n",
        "    def __init__(self):\n",
        "        super(Classifier, self).__init__()\n",
        "        self.layer1 = nn.Linear(429, 1024)\n",
        "        self.layer2 = nn.Linear(1024, 512)\n",
        "        self.layer3 = nn.Linear(512, 128)\n",
        "        self.out = nn.Linear(128, 39)\n",
        "\n",
        "        self.act_fn = nn.ReLU()\n",
        "\n",
        "    def forward(self, x):\n",
        "        x = self.layer1(x)\n",
        "        x = self.act_fn(x)\n",
        "\n",
        "        x = self.layer2(x)\n",
        "        x = self.act_fn(x)\n",
        "\n",
        "        x = self.layer3(x)\n",
        "        x = self.act_fn(x)\n",
        "\n",
        "        x = self.out(x)\n",
        "\n",
        "        return x"
      ],
      "metadata": {
        "id": "eQVlqQnwt7Kz"
      },
      "execution_count": 9,
      "outputs": []
    },
    {
      "cell_type": "markdown",
      "metadata": {
        "id": "VRYciXZvPbYh"
      },
      "source": [
        "## Training"
      ]
    },
    {
      "cell_type": "code",
      "metadata": {
        "id": "y114Vmm3Ja6o"
      },
      "source": [
        "#check device\n",
        "def get_device():\n",
        "  return 'cuda' if torch.cuda.is_available() else 'cpu'"
      ],
      "execution_count": 10,
      "outputs": []
    },
    {
      "cell_type": "markdown",
      "metadata": {
        "id": "sEX-yjHjhGuH"
      },
      "source": [
        "Fix random seeds for reproducibility."
      ]
    },
    {
      "cell_type": "code",
      "metadata": {
        "id": "88xPiUnm0tAd"
      },
      "source": [
        "# fix random seed\n",
        "def same_seeds(seed):\n",
        "    torch.manual_seed(seed)\n",
        "    if torch.cuda.is_available():\n",
        "        torch.cuda.manual_seed(seed)\n",
        "        torch.cuda.manual_seed_all(seed)\n",
        "    np.random.seed(seed)\n",
        "    torch.backends.cudnn.benchmark = False\n",
        "    torch.backends.cudnn.deterministic = True"
      ],
      "execution_count": 11,
      "outputs": []
    },
    {
      "cell_type": "markdown",
      "metadata": {
        "id": "KbBcBXkSp6RA"
      },
      "source": [
        "Feel free to change the training parameters here."
      ]
    },
    {
      "cell_type": "code",
      "metadata": {
        "id": "QTp3ZXg1yO9Y",
        "colab": {
          "base_uri": "https://localhost:8080/"
        },
        "outputId": "b62cf5c7-4750-47de-e657-7eebca7563ea"
      },
      "source": [
        "# fix random seed for reproducibility\n",
        "same_seeds(0)\n",
        "\n",
        "# get device\n",
        "device = get_device()\n",
        "print(f'DEVICE: {device}')\n",
        "\n",
        "# training parameters\n",
        "num_epoch = 20               # number of training epoch\n",
        "learning_rate = 0.0001       # learning rate\n",
        "\n",
        "# the path where checkpoint saved\n",
        "model_path = './model.ckpt'\n",
        "\n",
        "# create model, define a loss function, and optimizer\n",
        "model = Classifier_ReLU().to(device)\n",
        "model_Sigmoi = Classifier_Sigmoi().to(device)\n",
        "criterion = nn.CrossEntropyLoss()\n",
        "optimizer = torch.optim.Adam(model.parameters(), lr=learning_rate)\n",
        "optimizer_Sigmoi = torch.optim.Adam(model_Sigmoi.parameters(), lr=learning_rate)\n"
      ],
      "execution_count": 23,
      "outputs": [
        {
          "output_type": "stream",
          "name": "stdout",
          "text": [
            "DEVICE: cuda\n"
          ]
        }
      ]
    },
    {
      "cell_type": "code",
      "source": [
        "# start training\n",
        "\n",
        "#儲存準確度、loss數\n",
        "Train_Acc = [] # 初始化一個空列表，用於儲存每個 epoch 的訓練準確度\n",
        "Train_loss = [] # 初始化一個空列表，用於儲存每個 epoch 的訓練損失\n",
        "Val_Acc = [] # 初始化一個空列表，用於儲存每個 epoch 的驗證準確度\n",
        "Val_loss = [] # 初始化一個空列表，用於儲存每個 epoch 的驗證損失\n",
        "\n",
        "best_acc = 0.0 # 初始化最佳驗證準確度為 0.0，用於儲存最好的模型\n",
        "# early stopping parameters\n",
        "early_stop_cnt = 0 # 初始化 early stopping 的計數器\n",
        "best_loss = float('inf')  # 初始化最佳驗證損失為無限大，用於追蹤最低損失\n",
        "\n",
        "for epoch in range(num_epoch): # 迴圈遍歷指定的 epoch 次數\n",
        "    train_acc = 0.0 # 初始化當前 epoch 的訓練準確度為 0.0\n",
        "    train_loss = 0.0 # 初始化當前 epoch 的訓練損失為 0.0\n",
        "    val_acc = 0.0 # 初始化當前 epoch 的驗證準確度為 0.0\n",
        "    val_loss = 0.0 # 初始化當前 epoch 的驗證損失為 0.0\n",
        "\n",
        "    # training\n",
        "    model.train() # 將模型設定為訓練模式 (啟用 Dropout 和 Batch Normalization 等)\n",
        "    for i, data in enumerate(train_loader): # 迴圈遍歷訓練資料集中的每個 batch\n",
        "        inputs, labels = data # 從 batch 中取出輸入資料和標籤\n",
        "        inputs, labels = inputs.to(device), labels.to(device) # 將輸入資料和標籤移動到指定的設備 (CPU 或 GPU)\n",
        "        optimizer.zero_grad() # 清除之前計算的梯度\n",
        "        outputs = model(inputs) # 將輸入資料傳入模型進行前向傳播，得到預測輸出\n",
        "        batch_loss = criterion(outputs, labels) # 計算當前 batch 的損失\n",
        "        _, train_pred = torch.max(outputs, 1) # 找到每個樣本預測輸出中機率最大的類別索引作為預測結果\n",
        "        batch_loss.backward() # 執行反向傳播，計算梯度\n",
        "        optimizer.step() # 根據計算出的梯度更新模型參數\n",
        "\n",
        "        train_acc += (train_pred.cpu() == labels.cpu()).sum().item() # 計算當前 batch 的訓練準確度並累加\n",
        "        train_loss += batch_loss.item() # 累加當前 batch 的訓練損失\n",
        "\n",
        "    # validation\n",
        "    if len(val_set) > 0: # 如果驗證集的大小大於 0 (存在驗證集)\n",
        "        model.eval() # 將模型設定為評估模式 (關閉 Dropout 等)\n",
        "        with torch.no_grad(): # 在評估模式下，不計算梯度，以節省記憶體和計算時間\n",
        "            for i, data in enumerate(val_loader): # 迴圈遍歷驗證資料集中的每個 batch\n",
        "                inputs, labels = data # 從 batch 中取出輸入資料和標籤\n",
        "                inputs, labels = inputs.to(device), labels.to(device) # 將輸入資料和標籤移動到指定的設備\n",
        "                outputs = model(inputs) # 將輸入資料傳入模型進行前向傳播，得到預測輸出\n",
        "                batch_loss = criterion(outputs, labels) # 計算當前 batch 的損失\n",
        "                _, val_pred = torch.max(outputs, 1) # 找到每個樣本預測輸出中機率最大的類別索引作為預測結果\n",
        "\n",
        "                val_acc += (val_pred.cpu() == labels.cpu()).sum().item() # 計算當前 batch 的驗證準確度並累加\n",
        "                val_loss += batch_loss.item() # 累加當前 batch 的驗證損失\n",
        "\n",
        "            Train_Acc.append(train_acc/len(train_set)) # 將當前 epoch 的訓練準確度 (平均值) 加入列表\n",
        "            Train_loss.append(train_loss/len(train_loader)) # 將當前 epoch 的訓練損失 (平均值) 加入列表\n",
        "            Val_Acc.append(val_acc/len(val_set)) # 將當前 epoch 的驗證準確度 (平均值) 加入列表\n",
        "            Val_loss.append(val_loss/len(val_loader)) # 將當前 epoch 的驗證損失 (平均值) 加入列表\n",
        "\n",
        "            current_val_loss = val_loss / len(val_loader) # 計算當前 epoch 的平均驗證損失\n",
        "\n",
        "            print('[{:03d}/{:03d}] Train Acc: {:3.6f} Loss: {:3.6f} | Val Acc: {:3.6f} loss: {:3.6f}'.format(\n",
        "                epoch + 1, num_epoch, train_acc/len(train_set), train_loss/len(train_loader), val_acc/len(val_set), current_val_loss\n",
        "            )) # 打印當前 epoch 的訓練和驗證準確度及損失\n",
        "\n",
        "            # Check for early stopping based on validation loss\n",
        "            if current_val_loss < best_loss: # 如果當前驗證損失低於之前記錄的最佳驗證損失\n",
        "                best_loss = current_val_loss # 更新最佳驗證損失\n",
        "                early_stop_cnt = 0  # Reset counter，重置 early stopping 計數器\n",
        "                # if the model improves based on accuracy, save a checkpoint at this epoch\n",
        "                if val_acc > best_acc: # 如果當前驗證準確度優於之前記錄的最佳驗證準確度\n",
        "                    best_acc = val_acc # 更新最佳驗證準確度\n",
        "                    torch.save(model.state_dict(), model_path) # 儲存當前模型的狀態字典 (模型參數) 到指定的路徑\n",
        "                    print('saving model with acc {:.3f}'.format(best_acc/len(val_set))) # 打印儲存模型的訊息和最佳驗證準確度\n",
        "            else: # 如果當前驗證損失沒有降低\n",
        "                early_stop_cnt += 1 # early stopping 計數器加一\n",
        "                print(f'EarlyStop counter: {early_stop_cnt}') # 打印當前 early stopping 計數器的值\n",
        "\n",
        "            if early_stop_cnt >= 3: # Default early stop count - 如果 early stopping 計數器達到或超過設定的閾值\n",
        "                print('Early stopping!') # 打印 early stopping 的訊息\n",
        "                break # Stop the training loop，終止訓練迴圈\n",
        "\n",
        "    else: # 如果不存在驗證集\n",
        "        print('[{:03d}/{:03d}] Train Acc: {:3.6f} Loss: {:3.6f}'.format(\n",
        "            epoch + 1, num_epoch, train_acc/len(train_set), train_loss/len(train_loader)\n",
        "        )) # 只打印當前 epoch 的訓練準確度及損失\n",
        "\n",
        "# if not validating, save the last epoch\n",
        "if len(val_set) == 0: # 如果不存在驗證集\n",
        "    torch.save(model.state_dict(), model_path) # 儲存最後一個 epoch 的模型狀態字典\n",
        "    print('saving model at last epoch') # 打印儲存模型的訊息\n"
      ],
      "metadata": {
        "id": "pV7E3PThswtu",
        "outputId": "1ceda0e3-907e-488f-eacd-dbc636046955",
        "colab": {
          "base_uri": "https://localhost:8080/"
        }
      },
      "execution_count": 13,
      "outputs": [
        {
          "output_type": "stream",
          "name": "stdout",
          "text": [
            "[001/020] Train Acc: 0.621864 Loss: 1.223552 | Val Acc: 0.670100 loss: 1.034135\n",
            "saving model with acc 0.670\n",
            "[002/020] Train Acc: 0.691814 Loss: 0.963586 | Val Acc: 0.699289 loss: 0.934205\n",
            "saving model with acc 0.699\n",
            "[003/020] Train Acc: 0.718233 Loss: 0.868803 | Val Acc: 0.705745 loss: 0.906242\n",
            "saving model with acc 0.706\n",
            "[004/020] Train Acc: 0.736953 Loss: 0.801977 | Val Acc: 0.713074 loss: 0.887037\n",
            "saving model with acc 0.713\n",
            "[005/020] Train Acc: 0.752815 Loss: 0.747951 | Val Acc: 0.714672 loss: 0.882325\n",
            "saving model with acc 0.715\n",
            "[006/020] Train Acc: 0.766685 Loss: 0.701067 | Val Acc: 0.716030 loss: 0.880420\n",
            "saving model with acc 0.716\n",
            "[007/020] Train Acc: 0.779254 Loss: 0.659274 | Val Acc: 0.717091 loss: 0.887725\n",
            "EarlyStop counter: 1\n",
            "[008/020] Train Acc: 0.791285 Loss: 0.620066 | Val Acc: 0.715367 loss: 0.901238\n",
            "EarlyStop counter: 2\n",
            "[009/020] Train Acc: 0.802140 Loss: 0.584371 | Val Acc: 0.711265 loss: 0.926326\n",
            "EarlyStop counter: 3\n",
            "Early stopping!\n"
          ]
        }
      ]
    },
    {
      "cell_type": "code",
      "source": [
        "def train_model(num_epoch, train_loader, val_loader, train_set, val_set, model, optimizer, criterion, device, model_path):\n",
        "  # start training\n",
        "\n",
        "  #儲存準確度、loss數\n",
        "  Train_Acc = [] # 初始化一個空列表，用於儲存每個 epoch 的訓練準確度\n",
        "  Train_loss = [] # 初始化一個空列表，用於儲存每個 epoch 的訓練損失\n",
        "  Val_Acc = [] # 初始化一個空列表，用於儲存每個 epoch 的驗證準確度\n",
        "  Val_loss = [] # 初始化一個空列表，用於儲存每個 epoch 的驗證損失\n",
        "\n",
        "  best_acc = 0.0 # 初始化最佳驗證準確度為 0.0，用於儲存最好的模型\n",
        "  # early stopping parameters\n",
        "  early_stop_cnt = 0 # 初始化 early stopping 的計數器\n",
        "  best_loss = float('inf')  # 初始化最佳驗證損失為無限大，用於追蹤最低損失\n",
        "\n",
        "  for epoch in range(num_epoch): # 迴圈遍歷指定的 epoch 次數\n",
        "      train_acc = 0.0 # 初始化當前 epoch 的訓練準確度為 0.0\n",
        "      train_loss = 0.0 # 初始化當前 epoch 的訓練損失為 0.0\n",
        "      val_acc = 0.0 # 初始化當前 epoch 的驗證準確度為 0.0\n",
        "      val_loss = 0.0 # 初始化當前 epoch 的驗證損失為 0.0\n",
        "\n",
        "      # training\n",
        "      model.train() # 將模型設定為訓練模式 (啟用 Dropout 和 Batch Normalization 等)\n",
        "      for i, data in enumerate(train_loader): # 迴圈遍歷訓練資料集中的每個 batch\n",
        "          inputs, labels = data # 從 batch 中取出輸入資料和標籤\n",
        "          inputs, labels = inputs.to(device), labels.to(device) # 將輸入資料和標籤移動到指定的設備 (CPU 或 GPU)\n",
        "          optimizer.zero_grad() # 清除之前計算的梯度\n",
        "          outputs = model(inputs) # 將輸入資料傳入模型進行前向傳播，得到預測輸出\n",
        "          batch_loss = criterion(outputs, labels) # 計算當前 batch 的損失\n",
        "          _, train_pred = torch.max(outputs, 1) # 找到每個樣本預測輸出中機率最大的類別索引作為預測結果\n",
        "          batch_loss.backward() # 執行反向傳播，計算梯度\n",
        "          optimizer.step() # 根據計算出的梯度更新模型參數\n",
        "\n",
        "          train_acc += (train_pred.cpu() == labels.cpu()).sum().item() # 計算當前 batch 的訓練準確度並累加\n",
        "          train_loss += batch_loss.item() # 累加當前 batch 的訓練損失\n",
        "\n",
        "      # validation\n",
        "      if len(val_set) > 0: # 如果驗證集的大小大於 0 (存在驗證集)\n",
        "          model.eval() # 將模型設定為評估模式 (關閉 Dropout 等)\n",
        "          with torch.no_grad(): # 在評估模式下，不計算梯度，以節省記憶體和計算時間\n",
        "              for i, data in enumerate(val_loader): # 迴圈遍歷驗證資料集中的每個 batch\n",
        "                  inputs, labels = data # 從 batch 中取出輸入資料和標籤\n",
        "                  inputs, labels = inputs.to(device), labels.to(device) # 將輸入資料和標籤移動到指定的設備\n",
        "                  outputs = model(inputs) # 將輸入資料傳入模型進行前向傳播，得到預測輸出\n",
        "                  batch_loss = criterion(outputs, labels) # 計算當前 batch 的損失\n",
        "                  _, val_pred = torch.max(outputs, 1) # 找到每個樣本預測輸出中機率最大的類別索引作為預測結果\n",
        "\n",
        "                  val_acc += (val_pred.cpu() == labels.cpu()).sum().item() # 計算當前 batch 的驗證準確度並累加\n",
        "                  val_loss += batch_loss.item() # 累加當前 batch 的驗證損失\n",
        "\n",
        "              Train_Acc.append(train_acc/len(train_set)) # 將當前 epoch 的訓練準確度 (平均值) 加入列表\n",
        "              Train_loss.append(train_loss/len(train_loader)) # 將當前 epoch 的訓練損失 (平均值) 加入列表\n",
        "              Val_Acc.append(val_acc/len(val_set)) # 將當前 epoch 的驗證準確度 (平均值) 加入列表\n",
        "              Val_loss.append(val_loss/len(val_loader)) # 將當前 epoch 的驗證損失 (平均值) 加入列表\n",
        "\n",
        "              current_val_loss = val_loss / len(val_loader) # 計算當前 epoch 的平均驗證損失\n",
        "\n",
        "              print('[{:03d}/{:03d}] Train Acc: {:3.6f} Loss: {:3.6f} | Val Acc: {:3.6f} loss: {:3.6f}'.format(\n",
        "                  epoch + 1, num_epoch, train_acc/len(train_set), train_loss/len(train_loader), val_acc/len(val_set), current_val_loss\n",
        "              )) # 打印當前 epoch 的訓練和驗證準確度及損失\n",
        "\n",
        "              # Check for early stopping based on validation loss\n",
        "              if current_val_loss < best_loss: # 如果當前驗證損失低於之前記錄的最佳驗證損失\n",
        "                  best_loss = current_val_loss # 更新最佳驗證損失\n",
        "                  early_stop_cnt = 0  # Reset counter，重置 early stopping 計數器\n",
        "                  # if the model improves based on accuracy, save a checkpoint at this epoch\n",
        "                  if val_acc > best_acc: # 如果當前驗證準確度優於之前記錄的最佳驗證準確度\n",
        "                      best_acc = val_acc # 更新最佳驗證準確度\n",
        "                      torch.save(model.state_dict(), model_path) # 儲存當前模型的狀態字典 (模型參數) 到指定的路徑\n",
        "                      print('saving model with acc {:.3f}'.format(best_acc/len(val_set))) # 打印儲存模型的訊息和最佳驗證準確度\n",
        "              else: # 如果當前驗證損失沒有降低\n",
        "                  early_stop_cnt += 1 # early stopping 計數器加一\n",
        "                  print(f'EarlyStop counter: {early_stop_cnt}') # 打印當前 early stopping 計數器的值\n",
        "\n",
        "              if early_stop_cnt >= 3: # Default early stop count - 如果 early stopping 計數器達到或超過設定的閾值\n",
        "                  print('Early stopping!') # 打印 early stopping 的訊息\n",
        "                  break # Stop the training loop，終止訓練迴圈\n",
        "\n",
        "      else: # 如果不存在驗證集\n",
        "          print('[{:03d}/{:03d}] Train Acc: {:3.6f} Loss: {:3.6f}'.format(\n",
        "              epoch + 1, num_epoch, train_acc/len(train_set), train_loss/len(train_loader)\n",
        "          )) # 只打印當前 epoch 的訓練準確度及損失\n",
        "\n",
        "  # if not validating, save the last epoch\n",
        "  if len(val_set) == 0: # 如果不存在驗證集\n",
        "      torch.save(model.state_dict(), model_path) # 儲存最後一個 epoch 的模型狀態字典\n",
        "      print('saving model at last epoch') # 打印儲存模型的訊息\n",
        "\n",
        "  # return 結果\n",
        "  return {\n",
        "      \"Train_Acc\": Train_Acc,\n",
        "      \"Train_loss\": Train_loss,\n",
        "      \"Val_Acc\": Val_Acc,\n",
        "      \"Val_loss\": Val_loss,\n",
        "      \"best_acc\": best_acc,\n",
        "      \"best_loss\": best_loss,\n",
        "      \"model\": model  # 傳回訓練後的模型（通常已經是最佳權重）\n",
        "  }\n",
        "\n"
      ],
      "metadata": {
        "id": "eiQ0YPhMgywc"
      },
      "execution_count": 13,
      "outputs": []
    },
    {
      "cell_type": "code",
      "source": [
        "#ReLU\n",
        "results = train_model(\n",
        "    num_epoch, train_loader, val_loader, train_set, val_set,\n",
        "    model, optimizer, criterion, device, model_path\n",
        ")\n",
        "\n",
        "Train_Acc_ReLU = results[\"Train_Acc\"]\n",
        "Train_loss_ReLU = results[\"Train_loss\"]\n",
        "Val_Acc_ReLU = results[\"Val_Acc\"]\n",
        "Val_loss_ReLU = results[\"Val_loss\"]\n",
        "\n",
        "\n",
        "print(\"Best validation accuracy:\", results[\"best_acc\"]/len(val_set))\n",
        "print(\"Best validation loss:\", results[\"best_loss\"])"
      ],
      "metadata": {
        "id": "0FD_QPCVLANO",
        "outputId": "d866ae5f-9dde-411b-d531-df1dd74ecff9",
        "colab": {
          "base_uri": "https://localhost:8080/"
        }
      },
      "execution_count": 28,
      "outputs": [
        {
          "output_type": "stream",
          "name": "stdout",
          "text": [
            "[001/020] Train Acc: 0.621674 Loss: 1.224965 | Val Acc: 0.672023 loss: 1.032161\n",
            "saving model with acc 0.672\n",
            "[002/020] Train Acc: 0.691426 Loss: 0.963855 | Val Acc: 0.700244 loss: 0.931840\n",
            "saving model with acc 0.700\n",
            "[003/020] Train Acc: 0.718206 Loss: 0.868527 | Val Acc: 0.708424 loss: 0.900427\n",
            "saving model with acc 0.708\n",
            "[004/020] Train Acc: 0.736967 Loss: 0.802467 | Val Acc: 0.711147 loss: 0.888931\n",
            "saving model with acc 0.711\n",
            "[005/020] Train Acc: 0.752368 Loss: 0.748486 | Val Acc: 0.712013 loss: 0.890444\n",
            "EarlyStop counter: 1\n",
            "[006/020] Train Acc: 0.766307 Loss: 0.702192 | Val Acc: 0.715030 loss: 0.883054\n",
            "saving model with acc 0.715\n",
            "[007/020] Train Acc: 0.779098 Loss: 0.659918 | Val Acc: 0.715176 loss: 0.893786\n",
            "EarlyStop counter: 1\n",
            "[008/020] Train Acc: 0.790922 Loss: 0.621542 | Val Acc: 0.713395 loss: 0.903143\n",
            "EarlyStop counter: 2\n",
            "[009/020] Train Acc: 0.801829 Loss: 0.585696 | Val Acc: 0.711908 loss: 0.921035\n",
            "EarlyStop counter: 3\n",
            "Early stopping!\n",
            "Best validation accuracy: 0.7150296560387338\n",
            "Best validation loss: 0.8830541646327053\n"
          ]
        }
      ]
    },
    {
      "cell_type": "code",
      "source": [
        "#Sigmoi\n",
        "results = train_model(\n",
        "    num_epoch, train_loader, val_loader, train_set, val_set,\n",
        "    model_Sigmoi, optimizer_Sigmoi, criterion, device, model_path\n",
        ")\n",
        "\n",
        "Train_Acc_Sigmoi = results[\"Train_Acc\"]\n",
        "Train_loss_Sigmoi = results[\"Train_loss\"]\n",
        "Val_Acc_Sigmoi = results[\"Val_Acc\"]\n",
        "Val_loss_Sigmoi = results[\"Val_loss\"]\n",
        "\n",
        "print(\"Best validation accuracy:\", results[\"best_acc\"]/len(val_set))\n",
        "print(\"Best validation loss:\", results[\"best_loss\"])"
      ],
      "metadata": {
        "id": "Po_34v0wn9Sr",
        "outputId": "ee18d91b-4832-4b0a-b835-24cbc927778a",
        "colab": {
          "base_uri": "https://localhost:8080/"
        }
      },
      "execution_count": 24,
      "outputs": [
        {
          "output_type": "stream",
          "name": "stdout",
          "text": [
            "[001/020] Train Acc: 0.623031 Loss: 1.219496 | Val Acc: 0.671893 loss: 1.025863\n",
            "saving model with acc 0.672\n",
            "[002/020] Train Acc: 0.692087 Loss: 0.959652 | Val Acc: 0.695687 loss: 0.939216\n",
            "saving model with acc 0.696\n",
            "[003/020] Train Acc: 0.719260 Loss: 0.864072 | Val Acc: 0.704627 loss: 0.906867\n",
            "saving model with acc 0.705\n",
            "[004/020] Train Acc: 0.738203 Loss: 0.796472 | Val Acc: 0.709180 loss: 0.893668\n",
            "saving model with acc 0.709\n",
            "[005/020] Train Acc: 0.754232 Loss: 0.742233 | Val Acc: 0.712351 loss: 0.889552\n",
            "saving model with acc 0.712\n",
            "[006/020] Train Acc: 0.768648 Loss: 0.694720 | Val Acc: 0.711895 loss: 0.894061\n",
            "EarlyStop counter: 1\n",
            "[007/020] Train Acc: 0.781651 Loss: 0.651820 | Val Acc: 0.714265 loss: 0.893620\n",
            "EarlyStop counter: 2\n",
            "[008/020] Train Acc: 0.793074 Loss: 0.613571 | Val Acc: 0.712310 loss: 0.917855\n",
            "EarlyStop counter: 3\n",
            "Early stopping!\n",
            "Best validation accuracy: 0.7123506526767674\n",
            "Best validation loss: 0.8895519929710276\n"
          ]
        }
      ]
    },
    {
      "cell_type": "code",
      "source": [
        "# 將ReLU畫成圖\n",
        "epochs = list(range(1, len(Train_Acc_ReLU) + 1)) # Use the length of Train_Acc to determine the number of epochs\n",
        "# 畫圖\n",
        "import matplotlib.pyplot as plt # Import matplotlib.pyplot\n",
        "\n",
        "plt.figure(figsize=(12, 5))\n",
        "\n",
        "# 準確率圖\n",
        "plt.subplot(1, 2, 1)\n",
        "plt.plot(epochs, Train_Acc_ReLU, label='Train Accuracy') # Use Train_Acc\n",
        "plt.plot(epochs, Val_Acc_ReLU, label='Validation Accuracy') # Use Val_Acc\n",
        "plt.xlabel('Epoch')\n",
        "plt.ylabel('Accuracy')\n",
        "plt.title('Train/Validation Accuracy')\n",
        "plt.legend()\n",
        "\n",
        "# 損失圖\n",
        "plt.subplot(1, 2, 2)\n",
        "plt.plot(epochs, Train_loss_ReLU, label='Train Loss') # Use Train_loss\n",
        "plt.plot(epochs, Val_loss_ReLU, label='Validation Loss') # Use Val_loss\n",
        "plt.xlabel('Epoch')\n",
        "plt.ylabel('Loss')\n",
        "plt.title('Train/Validation Loss')\n",
        "plt.legend()\n",
        "\n",
        "plt.tight_layout()\n",
        "plt.show()"
      ],
      "metadata": {
        "id": "fukTPvwcBnoR",
        "outputId": "a3b1a642-26b9-4697-d5e1-436c252003b5",
        "colab": {
          "base_uri": "https://localhost:8080/",
          "height": 507
        }
      },
      "execution_count": 30,
      "outputs": [
        {
          "output_type": "display_data",
          "data": {
            "text/plain": [
              "<Figure size 1200x500 with 2 Axes>"
            ],
            "image/png": "[encoded data removed]"
          },
          "metadata": {}
        }
      ]
    },
    {
      "cell_type": "code",
      "source": [
        "# 將Sigmoid畫成圖\n",
        "epochs = list(range(1, len(Train_Acc_Sigmoi) + 1)) # Use the length of Train_Acc to determine the number of epochs\n",
        "# 畫圖\n",
        "import matplotlib.pyplot as plt # Import matplotlib.pyplot\n",
        "\n",
        "plt.figure(figsize=(12, 5))\n",
        "\n",
        "# 準確率圖\n",
        "plt.subplot(1, 2, 1)\n",
        "plt.plot(epochs, Train_Acc_Sigmoi, label='Train Accuracy') # Use Train_Acc\n",
        "plt.plot(epochs, Val_Acc_Sigmoi, label='Validation Accuracy') # Use Val_Acc\n",
        "plt.xlabel('Epoch')\n",
        "plt.ylabel('Accuracy')\n",
        "plt.title('Train/Validation Accuracy')\n",
        "plt.legend()\n",
        "\n",
        "# 損失圖\n",
        "plt.subplot(1, 2, 2)\n",
        "plt.plot(epochs, Train_loss_Sigmoi, label='Train Loss') # Use Train_loss\n",
        "plt.plot(epochs, Val_loss_Sigmoi, label='Validation Loss') # Use Val_loss\n",
        "plt.xlabel('Epoch')\n",
        "plt.ylabel('Loss')\n",
        "plt.title('Train/Validation Loss')\n",
        "plt.legend()\n",
        "\n",
        "plt.tight_layout()\n",
        "plt.show()"
      ],
      "metadata": {
        "colab": {
          "base_uri": "https://localhost:8080/",
          "height": 507
        },
        "id": "l_aDUbm94osC",
        "outputId": "0e5225e7-8e81-4c97-e783-00b2658bb6a2"
      },
      "execution_count": 31,
      "outputs": [
        {
          "output_type": "display_data",
          "data": {
            "text/plain": [
              "<Figure size 1200x500 with 2 Axes>"
            ],
            "image/png": "[encoded data removed]"
          },
          "metadata": {}
        }
      ]
    },
    {
      "cell_type": "markdown",
      "metadata": {
        "id": "1Hi7jTn3PX-m"
      },
      "source": [
        "## Testing"
      ]
    },
    {
      "cell_type": "markdown",
      "metadata": {
        "id": "NfUECMFCn5VG"
      },
      "source": [
        "Create a testing dataset, and load model from the saved checkpoint."
      ]
    },
    {
      "cell_type": "code",
      "metadata": {
        "id": "1PKjtAScPWtr"
      },
      "source": [
        "# create testing dataset\n",
        "test_set = TIMITDataset(test, None)\n",
        "test_loader = DataLoader(test_set, batch_size=BATCH_SIZE, shuffle=False)\n",
        "\n",
        "# create model and load weights from checkpoint\n",
        "model = Classifier().to(device)\n",
        "model.load_state_dict(torch.load(model_path))"
      ],
      "execution_count": null,
      "outputs": []
    },
    {
      "cell_type": "markdown",
      "metadata": {
        "id": "940TtCCdoYd0"
      },
      "source": [
        "Make prediction."
      ]
    },
    {
      "cell_type": "code",
      "metadata": {
        "id": "84HU5GGjPqR0"
      },
      "source": [
        "predict = []\n",
        "model.eval() # set the model to evaluation mode\n",
        "with torch.no_grad():\n",
        "    for i, data in enumerate(test_loader):\n",
        "        inputs = data\n",
        "        inputs = inputs.to(device)\n",
        "        outputs = model(inputs)\n",
        "        _, test_pred = torch.max(outputs, 1) # get the index of the class with the highest probability\n",
        "\n",
        "        for y in test_pred.cpu().numpy():\n",
        "            predict.append(y)"
      ],
      "execution_count": null,
      "outputs": []
    },
    {
      "cell_type": "markdown",
      "metadata": {
        "id": "AWDf_C-omElb"
      },
      "source": [
        "Write prediction to a CSV file.\n",
        "\n",
        "After finish running this block, download the file `prediction.csv` from the files section on the left-hand side and submit it to Kaggle."
      ]
    },
    {
      "cell_type": "code",
      "metadata": {
        "id": "GuljYSPHcZir"
      },
      "source": [
        "with open('prediction.csv', 'w') as f:\n",
        "    f.write('Id,Class\\n')\n",
        "    for i, y in enumerate(predict):\n",
        "        f.write('{},{}\\n'.format(i, y))"
      ],
      "execution_count": null,
      "outputs": []
    }
  ]
}